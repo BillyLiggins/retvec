{
 "cells": [
  {
   "attachments": {},
   "cell_type": "markdown",
   "metadata": {},
   "source": [
    "# RetVec Full API tutorial\n",
    "\n",
    "In this notebook we explain how to split RetVec computation in multiple layers\n",
    "such as part of it can be excuted either as pre-processing or on-CPU before sending to TPU.\n",
    "The following digaram summarize the typical setup you would use to use TPU \n",
    "in an optimal fashion.\n",
    "\n"
   ]
  },
  {
   "cell_type": "code",
   "execution_count": 1,
   "metadata": {},
   "outputs": [],
   "source": [
    "from retvec.tf import RetVecBinarizer, RetVecIntBinarizer, RetVecEmbedding"
   ]
  },
  {
   "cell_type": "markdown",
   "metadata": {},
   "source": []
  },
  {
   "cell_type": "code",
   "execution_count": null,
   "metadata": {},
   "outputs": [],
   "source": []
  }
 ],
 "metadata": {
  "kernelspec": {
   "display_name": ".env",
   "language": "python",
   "name": "python3"
  },
  "language_info": {
   "codemirror_mode": {
    "name": "ipython",
    "version": 3
   },
   "file_extension": ".py",
   "mimetype": "text/x-python",
   "name": "python",
   "nbconvert_exporter": "python",
   "pygments_lexer": "ipython3",
   "version": "3.10.4"
  },
  "orig_nbformat": 4,
  "vscode": {
   "interpreter": {
    "hash": "bc86f0786348ca6b89e1e790af95528ab7136d16a08a53d7be83a40ce5119309"
   }
  }
 },
 "nbformat": 4,
 "nbformat_minor": 2
}
